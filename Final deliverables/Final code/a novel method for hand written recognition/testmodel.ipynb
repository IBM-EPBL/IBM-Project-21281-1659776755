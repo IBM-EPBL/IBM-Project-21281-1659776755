{
  "nbformat": 4,
  "nbformat_minor": 0,
  "metadata": {
    "colab": {
      "provenance": []
    },
    "kernelspec": {
      "name": "python3",
      "display_name": "Python 3"
    },
    "language_info": {
      "name": "python"
    }
  },
  "cells": [
    {
      "cell_type": "code",
      "execution_count": 7,
      "metadata": {
        "id": "9si9W6t2NhQ1"
      },
      "outputs": [],
      "source": [
        "#Importing the Keras libraries and packages\n",
        "from tensorflow.keras.models import load_model\n",
        "from PIL import Image #used for manipulating image uploaded by the user.\n",
        "import numpy as np #used for numerrical analysis\n",
        "model = load_model('/content/mnistCNN.h5')"
      ]
    },
    {
      "cell_type": "code",
      "source": [
        "img = Image.open('/content/mnist-dataset-9.png').convert(\"L\") # convert image to monochrome\n",
        "img = img.resize( (28, 28) ) # resizing of input image\n",
        "im2arr = np.array(img) #converting to image\n",
        "im2arr = im2arr.reshape(1, 28, 28, 1) #reshaping according to our requirement"
      ],
      "metadata": {
        "id": "u0jq7-tSO1vl"
      },
      "execution_count": 8,
      "outputs": []
    },
    {
      "cell_type": "code",
      "source": [
        "# Predicting the Test set results\n",
        "y_pred = model.predict(im2arr) #predicting the results\n",
        "print(y_pred)"
      ],
      "metadata": {
        "colab": {
          "base_uri": "https://localhost:8080/"
        },
        "id": "RCV903ofPmAz",
        "outputId": "37ce58f8-814e-419a-8fab-cf403fe8fd8d"
      },
      "execution_count": 9,
      "outputs": [
        {
          "output_type": "stream",
          "name": "stdout",
          "text": [
            "1/1 [==============================] - 0s 373ms/step\n",
            "[[5.9280910e-06 1.4658129e-08 2.2205105e-08 5.7372406e-05 3.1347853e-01\n",
            "  6.3194619e-07 1.8361594e-07 1.0211490e-06 2.5269052e-04 6.8620354e-01]]\n"
          ]
        }
      ]
    },
    {
      "cell_type": "code",
      "source": [
        "import numpy as np\n",
        "print(np.argmax(y_pred, axis=1)) #printing our Labels from first 4 images"
      ],
      "metadata": {
        "colab": {
          "base_uri": "https://localhost:8080/"
        },
        "id": "NqJUPi-QPsP6",
        "outputId": "e102fed6-07a1-4422-fc19-22843b53e7da"
      },
      "execution_count": 10,
      "outputs": [
        {
          "output_type": "stream",
          "name": "stdout",
          "text": [
            "[9]\n"
          ]
        }
      ]
    }
  ]
}