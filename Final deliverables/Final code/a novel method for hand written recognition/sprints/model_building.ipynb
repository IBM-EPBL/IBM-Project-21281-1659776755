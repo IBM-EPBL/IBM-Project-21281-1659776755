{
  "nbformat": 4,
  "nbformat_minor": 0,
  "metadata": {
    "colab": {
      "provenance": [],
      "collapsed_sections": []
    },
    "kernelspec": {
      "name": "python3",
      "display_name": "Python 3"
    },
    "language_info": {
      "name": "python"
    }
  },
  "cells": [
    {
      "cell_type": "code",
      "execution_count": 25,
      "metadata": {
        "id": "FdtHeZf6TsGg"
      },
      "outputs": [],
      "source": [
        "import numpy as np\n",
        "import tensorflow #open source used for both ML and DL for computation\n",
        "from tensorflow.keras.datasets import mnist #mnist dataset\n",
        "from tensorflow.keras.models import Sequential #it is a plain stack of layers\n",
        "from tensorflow.keras import layers #A Layer consists of a tensor- in tensor-out computat ion funct ion\n",
        "from tensorflow.keras.layers import Dense, Flatten #Dense-Dense Layer is the regular deeply connected r\n",
        "#faltten -used fot flattening the input or change the dimension\n",
        "from tensorflow.keras.layers import Conv2D #onvoLutiona l Layer\n",
        "from keras.optimizers import Adam #opt imizer\n",
        "from keras. utils import np_utils #used for one-hot encoding\n",
        "import matplotlib.pyplot as plt   #used for data visualization"
      ]
    },
    {
      "cell_type": "code",
      "source": [
        "(x_train, y_train), (x_test, y_test)=mnist.load_data ()\n",
        "x_train=x_train.reshape (60000, 28, 28, 1).astype('float32')\n",
        "x_test=x_test.reshape (10000, 28, 28, 1).astype ('float32')\n",
        "number_of_classes = 10  #storing the no of classes in a variable\n",
        "y_train = np_utils.to_categorical (y_train, number_of_classes) #converts the output in binary format\n",
        "y_test = np_utils.to_categorical (y_test, number_of_classes)"
      ],
      "metadata": {
        "id": "npye9CdrTt7c"
      },
      "execution_count": 26,
      "outputs": []
    },
    {
      "cell_type": "code",
      "source": [
        "#create model\n",
        "model=Sequential ()\n",
        "#adding modeL Layer\n",
        "model.add(Conv2D(64, (3, 3), input_shape=(28, 28, 1), activation='relu'))\n",
        "model.add(Conv2D(32, (3, 3), activation = 'relu'))\n",
        "#flatten the dimension of the image\n",
        "model.add(Flatten())\n",
        "#output layer with 10 neurons\n",
        "model.add(Dense(number_of_classes,activation = 'softmax'))"
      ],
      "metadata": {
        "id": "tYL7prKHcmpH"
      },
      "execution_count": 27,
      "outputs": []
    },
    {
      "cell_type": "code",
      "source": [
        "#Compile model\n",
        "model.compile(loss= 'categorical_crossentropy', optimizer=\"Adam\", metrics=['accuracy'])\n",
        "x_train = np.asarray(x_train)\n",
        "y_train = np.asarray(y_train)"
      ],
      "metadata": {
        "id": "qr8DmBm3crrW"
      },
      "execution_count": 28,
      "outputs": []
    },
    {
      "cell_type": "code",
      "source": [
        "#fit the model\n",
        "model.fit(x_train, y_train, validation_data=(x_test, y_test), epochs=5, batch_size=32)"
      ],
      "metadata": {
        "colab": {
          "base_uri": "https://localhost:8080/"
        },
        "id": "e5VKvY9scwCn",
        "outputId": "cbc00095-00de-453c-cb63-b1f193a8a471"
      },
      "execution_count": 42,
      "outputs": [
        {
          "output_type": "stream",
          "name": "stdout",
          "text": [
            "Epoch 1/5\n",
            "1875/1875 [==============================] - 168s 89ms/step - loss: 0.0457 - accuracy: 0.9856 - val_loss: 0.0901 - val_accuracy: 0.9768\n",
            "Epoch 2/5\n",
            "1875/1875 [==============================] - 168s 90ms/step - loss: 0.0357 - accuracy: 0.9886 - val_loss: 0.0866 - val_accuracy: 0.9776\n",
            "Epoch 3/5\n",
            "1875/1875 [==============================] - 169s 90ms/step - loss: 0.0273 - accuracy: 0.9915 - val_loss: 0.0964 - val_accuracy: 0.9769\n",
            "Epoch 4/5\n",
            "1875/1875 [==============================] - 171s 91ms/step - loss: 0.0221 - accuracy: 0.9927 - val_loss: 0.1263 - val_accuracy: 0.9727\n",
            "Epoch 5/5\n",
            "1875/1875 [==============================] - 173s 92ms/step - loss: 0.0185 - accuracy: 0.9942 - val_loss: 0.1013 - val_accuracy: 0.9807\n"
          ]
        },
        {
          "output_type": "execute_result",
          "data": {
            "text/plain": [
              "<keras.callbacks.History at 0x7f600c10a9d0>"
            ]
          },
          "metadata": {},
          "execution_count": 42
        }
      ]
    },
    {
      "cell_type": "code",
      "source": [
        "# Final evaluation of the model\n",
        "metrics = model.evaluate(x_test, y_test, verbose=0)\n",
        "print(\"Metrics (Test loss &Test Accuracy) : \")\n",
        "print(metrics)\n",
        "prediction=model.predict(x_test[6000:6001])\n",
        "print(prediction)"
      ],
      "metadata": {
        "colab": {
          "base_uri": "https://localhost:8080/"
        },
        "id": "BHuRggzVhMVx",
        "outputId": "2f771798-593f-446c-bed6-37145e1ea17e"
      },
      "execution_count": 31,
      "outputs": [
        {
          "output_type": "stream",
          "name": "stdout",
          "text": [
            "Metrics (Test loss &Test Accuracy) : \n",
            "[0.0766407772898674, 0.9772999882698059]\n",
            "1/1 [==============================] - 0s 19ms/step\n",
            "[[1.6181129e-10 8.4561020e-13 1.1250910e-08 2.4261400e-04 2.0525468e-04\n",
            "  1.3395709e-06 1.6202978e-12 8.7494939e-04 2.7601431e-05 9.9864823e-01]]\n"
          ]
        }
      ]
    },
    {
      "cell_type": "code",
      "source": [
        "import numpy as np\n",
        "print(np.argmax(prediction, axis=1)) #printing our Labels from first 4 images\n",
        "np.argmax(y_test[6000:6001]) #printing the actual labels"
      ],
      "metadata": {
        "id": "4nJJ8zO0dBQP"
      },
      "execution_count": null,
      "outputs": []
    },
    {
      "cell_type": "code",
      "source": [
        "# Save the model\n",
        "model.save('models/mnistCNN.h5')"
      ],
      "metadata": {
        "id": "5TKfJTPEdCyO"
      },
      "execution_count": 41,
      "outputs": []
    },
    {
      "cell_type": "code",
      "source": [],
      "metadata": {
        "id": "SXh0ZZPGlC0m"
      },
      "execution_count": null,
      "outputs": []
    }
  ]
}